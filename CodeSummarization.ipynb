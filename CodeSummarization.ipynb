{
  "nbformat": 4,
  "nbformat_minor": 0,
  "metadata": {
    "colab": {
      "provenance": [],
      "authorship_tag": "ABX9TyN/QGX7NhB8VxJZ7Q5fBdmP",
      "include_colab_link": true
    },
    "kernelspec": {
      "name": "python3",
      "display_name": "Python 3"
    },
    "language_info": {
      "name": "python"
    }
  },
  "cells": [
    {
      "cell_type": "markdown",
      "metadata": {
        "id": "view-in-github",
        "colab_type": "text"
      },
      "source": [
        "<a href=\"https://colab.research.google.com/github/OjashKush/RAG-chatbot/blob/main/CodeSummarization.ipynb\" target=\"_parent\"><img src=\"https://colab.research.google.com/assets/colab-badge.svg\" alt=\"Open In Colab\"/></a>"
      ]
    },
    {
      "cell_type": "code",
      "execution_count": null,
      "metadata": {
        "id": "99YOfLVlgY7X"
      },
      "outputs": [],
      "source": [
        "import requests\n",
        "import ast\n",
        "API_URL = \"https://api-inference.huggingface.co/models/uclanlp/plbart-base\"\n",
        "headers = {\"Authorization\": f\"Bearer {'TOKEN'}\"}"
      ]
    },
    {
      "cell_type": "markdown",
      "source": [
        "You have to add TOKEN in above code snippet"
      ],
      "metadata": {
        "id": "PLevM8DHoQ5i"
      }
    },
    {
      "cell_type": "code",
      "source": [
        "def summarize_code(code):\n",
        "    \"\"\"Summarizes code functions using the inference API.\"\"\"\n",
        "    functions = extract_functions(code)  # Extract functions for individual summaries\n",
        "    summaries = []\n",
        "\n",
        "    for func_code in functions:\n",
        "        data = {\"inputs\": func_code}  # Structure input for API request\n",
        "        response = requests.post(API_URL, headers=headers, json=data)\n",
        "        response.raise_for_status()  # Raise error for non-200 status codes\n",
        "\n",
        "        summary = response.json()[0][\"generated_text\"]  # Extract summary from response\n",
        "        cleaned_summary = clean_summary(summary)  # Call the cleaning function\n",
        "        summaries.append(cleaned_summary)\n",
        "\n",
        "    return summaries"
      ],
      "metadata": {
        "id": "BL50MIgFgnPF"
      },
      "execution_count": null,
      "outputs": []
    },
    {
      "cell_type": "code",
      "source": [
        "def extract_functions(code):\n",
        "    \"\"\"Extracts function bodies from code.\"\"\"\n",
        "    tree = ast.parse(code)\n",
        "    functions = [n for n in ast.walk(tree) if isinstance(n, ast.FunctionDef)]\n",
        "    func_codes = [ast.unparse(func.body) for func in functions]\n",
        "\n",
        "\n",
        "    return func_codes\n",
        "\n"
      ],
      "metadata": {
        "id": "0-kZ0kz1grH-"
      },
      "execution_count": null,
      "outputs": []
    },
    {
      "cell_type": "code",
      "source": [
        "\n",
        "def clean_summary(summary):\n",
        "    \"\"\"Clean up the generated summary for better readability.\"\"\"\n",
        "    # Example clean-up steps; customize based on actual response patterns\n",
        "    cleaned_summary = summary.replace('[', '').replace(']', '')\n",
        "    cleaned_summary = summary.split(' if')[0].strip()\n",
        "    cleaned_summary = summary.replace('\\n', ' ').strip()\n",
        "\n",
        "    return cleaned_summary"
      ],
      "metadata": {
        "id": "05jz7AmQg6Ya"
      },
      "execution_count": null,
      "outputs": []
    },
    {
      "cell_type": "code",
      "source": [
        "# Example usage\n",
        "code = \"\"\"\n",
        "def print(file):\n",
        "    print('file')\n",
        "    return 0\n",
        "\"\"\"\n",
        "\n",
        "\n",
        "print(summarize_code(code))"
      ],
      "metadata": {
        "colab": {
          "base_uri": "https://localhost:8080/"
        },
        "id": "WXJdWTABg931",
        "outputId": "a1f2a330-961c-4de2-eb2e-0afb8ce4238a"
      },
      "execution_count": null,
      "outputs": [
        {
          "output_type": "stream",
          "name": "stdout",
          "text": [
            "[\"file') return 0\"]\n"
          ]
        }
      ]
    },
    {
      "cell_type": "code",
      "source": [],
      "metadata": {
        "id": "b5cvpLT9hMlO"
      },
      "execution_count": null,
      "outputs": []
    }
  ]
}